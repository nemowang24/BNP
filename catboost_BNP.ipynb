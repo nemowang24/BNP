{
 "cells": [
  {
   "cell_type": "code",
   "id": "initial_id",
   "metadata": {
    "ExecuteTime": {
     "end_time": "2024-10-24T00:47:57.854763Z",
     "start_time": "2024-10-24T00:47:57.849432Z"
    }
   },
   "source": [
    "# !python -m pip install --upgrade pip\n",
    "# !pip install numpy\n",
    "# !pip install pandas\n",
    "# !pip install itertools\n",
    "# !pip install catboost\n",
    "# !pip install scikit-learn"
   ],
   "outputs": [],
   "execution_count": 70
  },
  {
   "cell_type": "code",
   "id": "6d42d3719fb05235",
   "metadata": {
    "ExecuteTime": {
     "end_time": "2024-10-24T00:47:57.888428Z",
     "start_time": "2024-10-24T00:47:57.871775Z"
    }
   },
   "source": [
    "import numpy as np\n",
    "import pandas as pd\n",
    "import joblib\n",
    "import os\n",
    "import operator\n",
    "from itertools import combinations\n",
    "from itertools import product\n",
    "import gc\n",
    "import catboost as cat\n",
    "import multiprocessing\n",
    "from joblib import Parallel, delayed\n",
    "from sklearn.base import BaseEstimator\n",
    "from sklearn.base import TransformerMixin\n"
   ],
   "outputs": [],
   "execution_count": 71
  },
  {
   "cell_type": "markdown",
   "id": "1dc75679215c6236",
   "metadata": {},
   "source": [
    "# Load Data"
   ]
  },
  {
   "cell_type": "code",
   "id": "ca0b0d09669a629",
   "metadata": {
    "ExecuteTime": {
     "end_time": "2024-10-24T00:47:57.965757Z",
     "start_time": "2024-10-24T00:47:57.963809Z"
    }
   },
   "source": [
    "# train_file_path = r\"D:\\MyDrive2\\pythonprojects\\class\\ML\\BNP\\data\\train.csv\"\n",
    "# test_file_path = r\"D:\\MyDrive2\\pythonprojects\\class\\ML\\BNP\\data\\test.csv\"\n",
    "# submission_sample_file_path = r\"D:\\MyDrive2\\pythonprojects\\class\\ML\\BNP\\data\\sample_submission.csv\"\n",
    "# submission_file_path = r\"D:\\MyDrive2\\pythonprojects\\class\\ML\\BNP\\data\\submission.csv\"\n",
    "# good_feature_path = r\"D:\\MyDrive2\\pythonprojects\\class\\ML\\BNP\\assignment\\featimp_20241012_1720_8gpu_num2cat_num999_longparam.csv\"\n",
    "\n",
    "# train_file_path = r\"train.csv\"\n",
    "# test_file_path = r\"test.csv\"\n",
    "# submission_sample_file_path = r\"sample_submission.csv\"\n",
    "# submission_file_path = r\"submission.csv\"\n",
    "# good_feature_path = r\"D:\\MyDrive\\pythonprojects\\class\\ML\\BNP\\assignment\\featimp_20241012_1720_8gpu_num2cat_num999_longparam.csv\"\n",
    "\n",
    "import os\n",
    "cwd = os.getcwd()\n",
    "train_file_path = os.path.join(cwd,'data/train.csv')\n",
    "test_file_path = os.path.join(cwd,'data/test.csv')\n",
    "submission_sample_file_path = os.path.join(cwd,'data/sample_submission.csv')\n",
    "submission_file_path = os.path.join(cwd,'data/submission.csv')"
   ],
   "outputs": [],
   "execution_count": 72
  },
  {
   "metadata": {
    "ExecuteTime": {
     "end_time": "2024-10-24T00:47:58.032439Z",
     "start_time": "2024-10-24T00:47:58.025148Z"
    }
   },
   "cell_type": "code",
   "source": "os.path.join(cwd,'data/train.csv')",
   "id": "57bf75f456013edb",
   "outputs": [
    {
     "data": {
      "text/plain": [
       "'/tmp/pycharm_project_118/ML/BNP/data/train.csv'"
      ]
     },
     "execution_count": 73,
     "metadata": {},
     "output_type": "execute_result"
    }
   ],
   "execution_count": 73
  },
  {
   "metadata": {
    "ExecuteTime": {
     "end_time": "2024-10-24T00:47:58.117668Z",
     "start_time": "2024-10-24T00:47:58.113238Z"
    }
   },
   "cell_type": "code",
   "source": "",
   "id": "c290d304b6c79ff5",
   "outputs": [],
   "execution_count": null
  },
  {
   "cell_type": "code",
   "id": "794e3ba13171260e",
   "metadata": {
    "ExecuteTime": {
     "end_time": "2024-10-24T00:47:59.801577Z",
     "start_time": "2024-10-24T00:47:58.163978Z"
    }
   },
   "source": [
    "train = pd.read_csv(train_file_path)\n",
    "test = pd.read_csv(test_file_path)\n",
    "y = train['target']\n",
    "train.drop('target', axis=1, inplace=True)\n",
    "train.drop('ID', axis=1, inplace=True)\n",
    "train.drop('v74', axis=1, inplace=True)  #v74, v3 are univariate\n",
    "train.drop('v3', axis=1, inplace=True)\n",
    "test.drop('ID', axis=1, inplace=True) #ID is useless\n",
    "test.drop('v74', axis=1, inplace=True)\n",
    "test.drop('v3', axis=1, inplace=True)\n",
    "\n",
    "# train = train[:50]\n",
    "# test = test[:50]\n",
    "# y = y[:50]\n"
   ],
   "outputs": [],
   "execution_count": 74
  },
  {
   "cell_type": "markdown",
   "id": "6a5ba5ed4754ab6",
   "metadata": {},
   "source": [
    "## Convert Low Cardinality Numerical to Categorical"
   ]
  },
  {
   "cell_type": "code",
   "id": "ca878a0d6adafa2e",
   "metadata": {
    "ExecuteTime": {
     "end_time": "2024-10-24T00:47:59.966332Z",
     "start_time": "2024-10-24T00:47:59.866948Z"
    }
   },
   "source": [
    "# modify numerical features v62 v129 v38 v72 to categorical features\n",
    "num_2_cat_list = ['v62', 'v129', 'v38', 'v72']\n",
    "for c in num_2_cat_list:\n",
    "    train[c] = train[c].astype('string')\n",
    "    train[c] = train[c].astype('O')\n",
    "for c in num_2_cat_list:\n",
    "    test[c] = test[c].astype('string')\n",
    "    test[c] = test[c].astype('O')"
   ],
   "outputs": [],
   "execution_count": 75
  },
  {
   "cell_type": "code",
   "id": "69dd9d00c14a3c19",
   "metadata": {
    "ExecuteTime": {
     "end_time": "2024-10-24T00:47:59.976510Z",
     "start_time": "2024-10-24T00:47:59.975098Z"
    }
   },
   "source": [
    "## Calculate feature's correlation with target, remove useless features"
   ],
   "outputs": [],
   "execution_count": 76
  },
  {
   "cell_type": "code",
   "id": "566d765c2f362785",
   "metadata": {
    "ExecuteTime": {
     "end_time": "2024-10-24T00:48:00.030807Z",
     "start_time": "2024-10-24T00:48:00.023875Z"
    }
   },
   "source": [
    "def calc_rel(df: pd.DataFrame, target_col: pd.Series, list1: list) -> dict:\n",
    "    \"\"\"calculate correlation\n",
    "    @list1: a list of columns in df, to calculate with target_col\"\"\"\n",
    "    correlations = dict()\n",
    "    for col in list1:\n",
    "        if df[col].dtype == 'O':\n",
    "            corr = target_col.corr(df[col].astype('category').cat.codes)\n",
    "        else:\n",
    "            corr = target_col.corr(df[col])\n",
    "        if not np.isnan(corr):\n",
    "            correlations[col] = abs(corr)\n",
    "    correlations = sorted(correlations.items(), key=lambda item: item[1], reverse=True)\n",
    "    return correlations\n"
   ],
   "outputs": [],
   "execution_count": 77
  },
  {
   "cell_type": "code",
   "id": "52236e810bdc4aaa",
   "metadata": {
    "ExecuteTime": {
     "end_time": "2024-10-24T00:48:00.183968Z",
     "start_time": "2024-10-24T00:48:00.060327Z"
    }
   },
   "source": [
    "#corr works on numerical column\n",
    "num_cols = train.select_dtypes(include=['number']).columns\n",
    "num_corr = calc_rel(train, y, num_cols)\n",
    "# use 0.03 as threshold\n",
    "num_corr = pd.DataFrame(num_corr[:30],columns=['feature','importance'])"
   ],
   "outputs": [],
   "execution_count": 78
  },
  {
   "cell_type": "code",
   "id": "d3dc4e8bcb5b56b4",
   "metadata": {
    "ExecuteTime": {
     "end_time": "2024-10-24T00:48:00.193535Z",
     "start_time": "2024-10-24T00:48:00.191979Z"
    }
   },
   "source": [
    "num_cols = num_corr['feature'].to_list()"
   ],
   "outputs": [],
   "execution_count": 79
  },
  {
   "cell_type": "code",
   "id": "96e35a4bdf2ee433",
   "metadata": {
    "ExecuteTime": {
     "end_time": "2024-10-24T00:48:00.204881Z",
     "start_time": "2024-10-24T00:48:00.203852Z"
    }
   },
   "source": [],
   "outputs": [],
   "execution_count": null
  },
  {
   "cell_type": "code",
   "id": "2fc0bc5c-3e6d-4fd7-97bf-b2b588f8873d",
   "metadata": {
    "ExecuteTime": {
     "end_time": "2024-10-24T00:48:00.294291Z",
     "start_time": "2024-10-24T00:48:00.255166Z"
    }
   },
   "source": [
    "#round num to 2 decimals\n",
    "for col in num_cols:\n",
    "    train[col] = np.round(train[col],2)\n",
    "for col in num_cols:\n",
    "    test[col] = np.round(test[col],2)"
   ],
   "outputs": [],
   "execution_count": 80
  },
  {
   "cell_type": "code",
   "id": "edb29553d99bebe0",
   "metadata": {
    "ExecuteTime": {
     "end_time": "2024-10-24T00:48:00.412865Z",
     "start_time": "2024-10-24T00:48:00.312910Z"
    }
   },
   "source": [
    "cat_cols = train.select_dtypes(exclude=['number']).columns\n",
    "cat_corr = pd.DataFrame(calc_rel(train, y, cat_cols), columns=['feature', 'correlation'])\n",
    "cat_cols = cat_corr['feature'].to_list()"
   ],
   "outputs": [],
   "execution_count": 81
  },
  {
   "cell_type": "code",
   "id": "37b252671cc31dbb",
   "metadata": {
    "ExecuteTime": {
     "end_time": "2024-10-24T00:48:00.421868Z",
     "start_time": "2024-10-24T00:48:00.420413Z"
    }
   },
   "source": [
    "#combine the cat and num cols\n",
    "sorted_num_list = [i for i in num_cols]\n",
    "sorted_cat_list = [i for i in cat_cols]\n",
    "keep_cols = sorted_num_list + sorted_cat_list"
   ],
   "outputs": [],
   "execution_count": 82
  },
  {
   "cell_type": "code",
   "id": "45590d56d46d4e86",
   "metadata": {
    "ExecuteTime": {
     "end_time": "2024-10-24T00:48:00.461406Z",
     "start_time": "2024-10-24T00:48:00.429961Z"
    }
   },
   "source": [
    "#drop useless from the train and test\n",
    "train = train[keep_cols]\n",
    "test = test[keep_cols]"
   ],
   "outputs": [],
   "execution_count": 83
  },
  {
   "cell_type": "code",
   "id": "5684cd46cb9a9267",
   "metadata": {
    "ExecuteTime": {
     "end_time": "2024-10-24T00:48:00.604541Z",
     "start_time": "2024-10-24T00:48:00.477086Z"
    }
   },
   "source": [
    "#fill nan values\n",
    "for col in sorted_cat_list:\n",
    "    train.fillna({col:'NA'},inplace=True)\n",
    "    # test[col] = test[col].fillna('NA')\n",
    "    test.fillna({col:'NA'},inplace=True)\n",
    "    "
   ],
   "outputs": [],
   "execution_count": 84
  },
  {
   "cell_type": "code",
   "id": "c6d9031555027da8",
   "metadata": {
    "ExecuteTime": {
     "end_time": "2024-10-24T00:48:00.741653Z",
     "start_time": "2024-10-24T00:48:00.623288Z"
    }
   },
   "source": [
    "for col in sorted_num_list:\n",
    "    # mean = train[col].mean(skipna=True)\n",
    "    train[col] = train[col].fillna(-999)\n",
    "    test[col] = test[col].fillna(-999)\n",
    "\n",
    "assert (train.isnull().sum().sum() == 0)\n",
    "assert (test.isnull().sum().sum() == 0)"
   ],
   "outputs": [],
   "execution_count": 85
  },
  {
   "cell_type": "code",
   "id": "63df5d7aa55613e2",
   "metadata": {
    "ExecuteTime": {
     "end_time": "2024-10-24T00:48:00.755371Z",
     "start_time": "2024-10-24T00:48:00.753493Z"
    }
   },
   "source": [
    "#get 99% percent importance\n",
    "def get_n_per_corr(org_df: pd.DataFrame, target_per: float = 0.99) -> pd.DataFrame:\n",
    "    \"\"\"df[correlation] should be descending ordered\"\"\"\n",
    "    df = org_df.copy()\n",
    "    df = df.sort_values(by='correlation', ascending=False, inplace=False)\n",
    "    #normalization\n",
    "    df['correlation'] = df['correlation'] / np.sum(df['correlation'])\n",
    "    cum_relation = 0\n",
    "    for i in range(len(df)):\n",
    "        cum_relation += df.iloc[i]['correlation']\n",
    "        if cum_relation >= target_per:\n",
    "            break\n",
    "    new_df = df.iloc[0:i + 1]\n",
    "    print(i, cum_relation, new_df.shape)\n",
    "    return new_df"
   ],
   "outputs": [],
   "execution_count": 86
  },
  {
   "cell_type": "code",
   "id": "6181c9239791848f",
   "metadata": {
    "ExecuteTime": {
     "end_time": "2024-10-24T00:48:02.162255Z",
     "start_time": "2024-10-24T00:48:00.815899Z"
    }
   },
   "source": [
    "#2-way combination for cat feat\n",
    "c2 = list(combinations(sorted_cat_list, 2))\n",
    "names_cs = [c[1] + c[0] for c in c2]\n",
    "train_c2 = pd.concat([train[c[1]] + train[c[0]] for c in c2], axis=1, keys=names_cs)\n",
    "test_c2 = pd.concat([test[c[1]] + test[c[0]] for c in c2], axis=1, keys=names_cs)"
   ],
   "outputs": [],
   "execution_count": 87
  },
  {
   "cell_type": "code",
   "id": "efb0381db290e5f7",
   "metadata": {
    "ExecuteTime": {
     "end_time": "2024-10-24T00:48:04.287724Z",
     "start_time": "2024-10-24T00:48:02.353548Z"
    }
   },
   "source": [
    "#v22 + c2\n",
    "catcol_without_v22 = [i for i in sorted_cat_list if i != 'v22']\n",
    "\n",
    "# First generate combination part without v22, then generate a new pair combine with v22\n",
    "cc2_no_v22 = list(combinations(catcol_without_v22, 2))\n",
    "v22_cc2 = list(product(['v22'], cc2_no_v22))\n",
    "column_names = [c[0] + '_' + c[1][0] + '_' + c[1][1] for c in v22_cc2]\n",
    "\n",
    "train_v22c2 = pd.concat([train[c[0]] + train[c[1][0]] + train[c[1][1]] for c in v22_cc2], axis=1, keys=column_names)\n",
    "train_v22c2.head()\n",
    "\n",
    "test_v22c2 = pd.concat([test[c[0]] + test[c[1][0]] + test[c[1][1]] for c in v22_cc2], axis=1, keys=column_names)\n",
    "test_v22c2.head()"
   ],
   "outputs": [
    {
     "data": {
      "text/plain": [
       "  v22_v110_v47 v22_v110_v31 v22_v110_v129 v22_v110_v113 v22_v110_v62  \\\n",
       "0       AFPBAJ       AFPBAA        AFPBA0       AFPBANA       AFPBA1   \n",
       "1        FOGBC        FOGBA         FOGB0        FOGBNA        FOGB1   \n",
       "2        HXZAI        HXZAA         HXZA0        HXZAAJ        HXZA1   \n",
       "3       AGMUAI       AGMUAA        AGMUA0        AGMUAG       AGMUA1   \n",
       "4        AWWAI        AWWAA         AWWA0         AWWAI        AWWA2   \n",
       "\n",
       "  v22_v110_v72 v22_v110_v38 v22_v110_v66 v22_v110_v79 v22_v110_v56  ...  \\\n",
       "0       AFPBA1       AFPBA0       AFPBAA       AFPBAQ      AFPBAAF  ...   \n",
       "1        FOGB5        FOGB4        FOGBC        FOGBE       FOGBDI  ...   \n",
       "2        HXZA1        HXZA0        HXZAC        HXZAC       HXZADO  ...   \n",
       "3       AGMUA1       AGMUA0       AGMUAB       AGMUAC      AGMUACN  ...   \n",
       "4        AWWA2        AWWA0        AWWAB        AWWAC       AWWANA  ...   \n",
       "\n",
       "  v22_v91_v75 v22_v91_v71 v22_v91_v125 v22_v91_v52 v22_v75_v71 v22_v75_v125  \\\n",
       "0      AFPBBD      AFPBBF      AFPBBAF      AFPBBC      AFPBDF      AFPBDAF   \n",
       "1       FOGCD       FOGCF        FOGCI       FOGCA       FOGDF        FOGDI   \n",
       "2       HXZCD       HXZCF       HXZCAV       HXZCA       HXZDF       HXZDAV   \n",
       "3      AGMUBD      AGMUBF       AGMUBB      AGMUBA      AGMUDF       AGMUDB   \n",
       "4       AWWBD       AWWBF        AWWBA       AWWBH       AWWDF        AWWDA   \n",
       "\n",
       "  v22_v75_v52 v22_v71_v125 v22_v71_v52 v22_v125_v52  \n",
       "0      AFPBDC      AFPBFAF      AFPBFC      AFPBAFC  \n",
       "1       FOGDA        FOGFI       FOGFA        FOGIA  \n",
       "2       HXZDA       HXZFAV       HXZFA       HXZAVA  \n",
       "3      AGMUDA       AGMUFB      AGMUFA       AGMUBA  \n",
       "4       AWWDH        AWWFA       AWWFH        AWWAH  \n",
       "\n",
       "[5 rows x 190 columns]"
      ],
      "text/html": [
       "<div>\n",
       "<style scoped>\n",
       "    .dataframe tbody tr th:only-of-type {\n",
       "        vertical-align: middle;\n",
       "    }\n",
       "\n",
       "    .dataframe tbody tr th {\n",
       "        vertical-align: top;\n",
       "    }\n",
       "\n",
       "    .dataframe thead th {\n",
       "        text-align: right;\n",
       "    }\n",
       "</style>\n",
       "<table border=\"1\" class=\"dataframe\">\n",
       "  <thead>\n",
       "    <tr style=\"text-align: right;\">\n",
       "      <th></th>\n",
       "      <th>v22_v110_v47</th>\n",
       "      <th>v22_v110_v31</th>\n",
       "      <th>v22_v110_v129</th>\n",
       "      <th>v22_v110_v113</th>\n",
       "      <th>v22_v110_v62</th>\n",
       "      <th>v22_v110_v72</th>\n",
       "      <th>v22_v110_v38</th>\n",
       "      <th>v22_v110_v66</th>\n",
       "      <th>v22_v110_v79</th>\n",
       "      <th>v22_v110_v56</th>\n",
       "      <th>...</th>\n",
       "      <th>v22_v91_v75</th>\n",
       "      <th>v22_v91_v71</th>\n",
       "      <th>v22_v91_v125</th>\n",
       "      <th>v22_v91_v52</th>\n",
       "      <th>v22_v75_v71</th>\n",
       "      <th>v22_v75_v125</th>\n",
       "      <th>v22_v75_v52</th>\n",
       "      <th>v22_v71_v125</th>\n",
       "      <th>v22_v71_v52</th>\n",
       "      <th>v22_v125_v52</th>\n",
       "    </tr>\n",
       "  </thead>\n",
       "  <tbody>\n",
       "    <tr>\n",
       "      <th>0</th>\n",
       "      <td>AFPBAJ</td>\n",
       "      <td>AFPBAA</td>\n",
       "      <td>AFPBA0</td>\n",
       "      <td>AFPBANA</td>\n",
       "      <td>AFPBA1</td>\n",
       "      <td>AFPBA1</td>\n",
       "      <td>AFPBA0</td>\n",
       "      <td>AFPBAA</td>\n",
       "      <td>AFPBAQ</td>\n",
       "      <td>AFPBAAF</td>\n",
       "      <td>...</td>\n",
       "      <td>AFPBBD</td>\n",
       "      <td>AFPBBF</td>\n",
       "      <td>AFPBBAF</td>\n",
       "      <td>AFPBBC</td>\n",
       "      <td>AFPBDF</td>\n",
       "      <td>AFPBDAF</td>\n",
       "      <td>AFPBDC</td>\n",
       "      <td>AFPBFAF</td>\n",
       "      <td>AFPBFC</td>\n",
       "      <td>AFPBAFC</td>\n",
       "    </tr>\n",
       "    <tr>\n",
       "      <th>1</th>\n",
       "      <td>FOGBC</td>\n",
       "      <td>FOGBA</td>\n",
       "      <td>FOGB0</td>\n",
       "      <td>FOGBNA</td>\n",
       "      <td>FOGB1</td>\n",
       "      <td>FOGB5</td>\n",
       "      <td>FOGB4</td>\n",
       "      <td>FOGBC</td>\n",
       "      <td>FOGBE</td>\n",
       "      <td>FOGBDI</td>\n",
       "      <td>...</td>\n",
       "      <td>FOGCD</td>\n",
       "      <td>FOGCF</td>\n",
       "      <td>FOGCI</td>\n",
       "      <td>FOGCA</td>\n",
       "      <td>FOGDF</td>\n",
       "      <td>FOGDI</td>\n",
       "      <td>FOGDA</td>\n",
       "      <td>FOGFI</td>\n",
       "      <td>FOGFA</td>\n",
       "      <td>FOGIA</td>\n",
       "    </tr>\n",
       "    <tr>\n",
       "      <th>2</th>\n",
       "      <td>HXZAI</td>\n",
       "      <td>HXZAA</td>\n",
       "      <td>HXZA0</td>\n",
       "      <td>HXZAAJ</td>\n",
       "      <td>HXZA1</td>\n",
       "      <td>HXZA1</td>\n",
       "      <td>HXZA0</td>\n",
       "      <td>HXZAC</td>\n",
       "      <td>HXZAC</td>\n",
       "      <td>HXZADO</td>\n",
       "      <td>...</td>\n",
       "      <td>HXZCD</td>\n",
       "      <td>HXZCF</td>\n",
       "      <td>HXZCAV</td>\n",
       "      <td>HXZCA</td>\n",
       "      <td>HXZDF</td>\n",
       "      <td>HXZDAV</td>\n",
       "      <td>HXZDA</td>\n",
       "      <td>HXZFAV</td>\n",
       "      <td>HXZFA</td>\n",
       "      <td>HXZAVA</td>\n",
       "    </tr>\n",
       "    <tr>\n",
       "      <th>3</th>\n",
       "      <td>AGMUAI</td>\n",
       "      <td>AGMUAA</td>\n",
       "      <td>AGMUA0</td>\n",
       "      <td>AGMUAG</td>\n",
       "      <td>AGMUA1</td>\n",
       "      <td>AGMUA1</td>\n",
       "      <td>AGMUA0</td>\n",
       "      <td>AGMUAB</td>\n",
       "      <td>AGMUAC</td>\n",
       "      <td>AGMUACN</td>\n",
       "      <td>...</td>\n",
       "      <td>AGMUBD</td>\n",
       "      <td>AGMUBF</td>\n",
       "      <td>AGMUBB</td>\n",
       "      <td>AGMUBA</td>\n",
       "      <td>AGMUDF</td>\n",
       "      <td>AGMUDB</td>\n",
       "      <td>AGMUDA</td>\n",
       "      <td>AGMUFB</td>\n",
       "      <td>AGMUFA</td>\n",
       "      <td>AGMUBA</td>\n",
       "    </tr>\n",
       "    <tr>\n",
       "      <th>4</th>\n",
       "      <td>AWWAI</td>\n",
       "      <td>AWWAA</td>\n",
       "      <td>AWWA0</td>\n",
       "      <td>AWWAI</td>\n",
       "      <td>AWWA2</td>\n",
       "      <td>AWWA2</td>\n",
       "      <td>AWWA0</td>\n",
       "      <td>AWWAB</td>\n",
       "      <td>AWWAC</td>\n",
       "      <td>AWWANA</td>\n",
       "      <td>...</td>\n",
       "      <td>AWWBD</td>\n",
       "      <td>AWWBF</td>\n",
       "      <td>AWWBA</td>\n",
       "      <td>AWWBH</td>\n",
       "      <td>AWWDF</td>\n",
       "      <td>AWWDA</td>\n",
       "      <td>AWWDH</td>\n",
       "      <td>AWWFA</td>\n",
       "      <td>AWWFH</td>\n",
       "      <td>AWWAH</td>\n",
       "    </tr>\n",
       "  </tbody>\n",
       "</table>\n",
       "<p>5 rows × 190 columns</p>\n",
       "</div>"
      ]
     },
     "execution_count": 88,
     "metadata": {},
     "output_type": "execute_result"
    }
   ],
   "execution_count": 88
  },
  {
   "cell_type": "code",
   "id": "65551e87533721df",
   "metadata": {
    "ExecuteTime": {
     "end_time": "2024-10-24T00:48:04.919112Z",
     "start_time": "2024-10-24T00:48:04.410041Z"
    }
   },
   "source": [
    "train = pd.concat([train, train_c2, train_v22c2], axis=1)\n",
    "test = pd.concat([test, test_c2, test_v22c2], axis=1)"
   ],
   "outputs": [],
   "execution_count": 89
  },
  {
   "cell_type": "code",
   "id": "8f92bdbcc0f028e6",
   "metadata": {
    "ExecuteTime": {
     "end_time": "2024-10-24T00:48:05.279524Z",
     "start_time": "2024-10-24T00:48:05.010105Z"
    }
   },
   "source": [
    "del train_c2, train_v22c2, test_c2, test_v22c2\n",
    "gc.collect()"
   ],
   "outputs": [
    {
     "data": {
      "text/plain": [
       "3083"
      ]
     },
     "execution_count": 90,
     "metadata": {},
     "output_type": "execute_result"
    }
   ],
   "execution_count": 90
  },
  {
   "cell_type": "markdown",
   "id": "a42ef7be6364f61b",
   "metadata": {},
   "source": [
    "# V22+C3"
   ]
  },
  {
   "cell_type": "code",
   "id": "256fe9c46072bb54",
   "metadata": {
    "ExecuteTime": {
     "end_time": "2024-10-24T00:48:05.665936Z",
     "start_time": "2024-10-24T00:48:05.655228Z"
    }
   },
   "source": [
    "cc3_no_v22 = list(combinations(catcol_without_v22, 3))\n",
    "v22_cc3 = list(product(['v22'], cc3_no_v22))\n",
    "len(v22_cc3)"
   ],
   "outputs": [
    {
     "data": {
      "text/plain": [
       "1140"
      ]
     },
     "execution_count": 91,
     "metadata": {},
     "output_type": "execute_result"
    }
   ],
   "execution_count": 91
  },
  {
   "cell_type": "code",
   "id": "d28ab7d998c09449",
   "metadata": {
    "ExecuteTime": {
     "end_time": "2024-10-24T00:48:15.471614Z",
     "start_time": "2024-10-24T00:48:05.723699Z"
    }
   },
   "source": [
    "column_names = [col[0] + '_' + col[1][0] + '_' + col[1][1] + '_' + col[1][2] for col in v22_cc3]\n",
    "train_cc3 = pd.concat([train[col[0]] + train[col[1][0]] + train[col[1][1]] + train[col[1][2]] for col in v22_cc3],\n",
    "                      axis=1, keys=column_names)\n",
    "train_cc3.shape"
   ],
   "outputs": [
    {
     "data": {
      "text/plain": [
       "(114321, 1140)"
      ]
     },
     "execution_count": 92,
     "metadata": {},
     "output_type": "execute_result"
    }
   ],
   "execution_count": 92
  },
  {
   "cell_type": "code",
   "id": "1ee08c4a613d86e6",
   "metadata": {
    "ExecuteTime": {
     "end_time": "2024-10-24T00:48:46.326474Z",
     "start_time": "2024-10-24T00:48:15.562547Z"
    }
   },
   "source": [
    "corr_list = calc_rel(train_cc3, y, train_cc3.columns.to_list())\n",
    "corr_df = pd.DataFrame(corr_list, columns=['feature', 'correlation'])"
   ],
   "outputs": [],
   "execution_count": 93
  },
  {
   "cell_type": "code",
   "id": "267172e4a1df8c6e",
   "metadata": {
    "ExecuteTime": {
     "end_time": "2024-10-24T00:48:46.398866Z",
     "start_time": "2024-10-24T00:48:46.374215Z"
    }
   },
   "source": [
    "p99_corr_train_cc3 = get_n_per_corr(corr_df, target_per=0.99)\n",
    "# p99_corr = corr_df"
   ],
   "outputs": [
    {
     "name": "stdout",
     "output_type": "stream",
     "text": [
      "1123 0.9905946819599096 (1124, 2)\n"
     ]
    }
   ],
   "execution_count": 94
  },
  {
   "cell_type": "code",
   "id": "3f0369412d109302",
   "metadata": {
    "ExecuteTime": {
     "end_time": "2024-10-24T00:48:49.634866Z",
     "start_time": "2024-10-24T00:48:46.471762Z"
    }
   },
   "source": [
    "train_cc3 = train_cc3[p99_corr_train_cc3['feature'].to_list()]\n",
    "train = pd.concat([train, train_cc3], axis=1)\n",
    "del train_cc3\n",
    "gc.collect()"
   ],
   "outputs": [
    {
     "data": {
      "text/plain": [
       "1756"
      ]
     },
     "execution_count": 95,
     "metadata": {},
     "output_type": "execute_result"
    }
   ],
   "execution_count": 95
  },
  {
   "cell_type": "code",
   "id": "715bb8f693481275",
   "metadata": {
    "ExecuteTime": {
     "end_time": "2024-10-24T00:49:01.047908Z",
     "start_time": "2024-10-24T00:48:49.682999Z"
    }
   },
   "source": [
    "test_cc3 = pd.concat([test[col[0]] + test[col[1][0]] + test[col[1][1]] + test[col[1][2]] for col in v22_cc3],\n",
    "                      axis=1, keys=column_names)\n",
    "test_cc3 = test_cc3[p99_corr_train_cc3['feature'].to_list()]\n",
    "test = pd.concat([test, test_cc3], axis=1)\n",
    "del test_cc3\n",
    "gc.collect()"
   ],
   "outputs": [
    {
     "data": {
      "text/plain": [
       "201"
      ]
     },
     "execution_count": 96,
     "metadata": {},
     "output_type": "execute_result"
    }
   ],
   "execution_count": 96
  },
  {
   "cell_type": "markdown",
   "id": "319c09f88f662ef0",
   "metadata": {},
   "source": [
    "# deal comb with num features"
   ]
  },
  {
   "cell_type": "code",
   "id": "4c6a02c93de80b3c",
   "metadata": {
    "ExecuteTime": {
     "end_time": "2024-10-24T00:49:01.070542Z",
     "start_time": "2024-10-24T00:49:01.069561Z"
    }
   },
   "source": [],
   "outputs": [],
   "execution_count": null
  },
  {
   "cell_type": "code",
   "id": "ece66be7c3563699",
   "metadata": {
    "ExecuteTime": {
     "end_time": "2024-10-24T00:49:01.275057Z",
     "start_time": "2024-10-24T00:49:01.104025Z"
    }
   },
   "source": [
    "#2-way combination for num feat\n",
    "n2 = list(combinations(sorted_num_list, 2))\n",
    "names_cs = [c[1] + c[0] for c in n2]\n",
    "train_n2 = pd.concat([train[c[1]] + train[c[0]] for c in n2], axis=1, keys=names_cs)\n",
    "test_n2 = pd.concat([test[c[1]] + test[c[0]] for c in n2], axis=1, keys=names_cs)"
   ],
   "outputs": [],
   "execution_count": 97
  },
  {
   "cell_type": "code",
   "id": "f4220cab6724f29d",
   "metadata": {
    "ExecuteTime": {
     "end_time": "2024-10-24T00:49:01.286604Z",
     "start_time": "2024-10-24T00:49:01.285639Z"
    }
   },
   "source": [],
   "outputs": [],
   "execution_count": null
  },
  {
   "cell_type": "code",
   "id": "96125343e191275b",
   "metadata": {
    "ExecuteTime": {
     "end_time": "2024-10-24T00:49:01.596353Z",
     "start_time": "2024-10-24T00:49:01.348295Z"
    }
   },
   "source": [
    "#v22 + c2\n",
    "numcol_without_v50 = [i for i in sorted_num_list if i != 'v50']\n",
    "\n",
    "# First generate combination part without v22, then generate a new pair combine with v22\n",
    "nc2_no_v50 = list(combinations(numcol_without_v50, 2))\n",
    "v50_nc2 = list(product(['v50'], nc2_no_v50))\n",
    "column_names = [c[0] + '_' + c[1][0] + '_' + c[1][1] for c in v50_nc2]\n",
    "\n",
    "train_v50n2 = pd.concat([train[c[0]] + train[c[1][0]] + train[c[1][1]] for c in v50_nc2], axis=1, keys=column_names)\n",
    "train_v50n2.head()\n",
    "\n",
    "test_v50n2 = pd.concat([test[c[0]] + test[c[1][0]] + test[c[1][1]] for c in v50_nc2], axis=1, keys=column_names)\n",
    "test_v50n2.head()"
   ],
   "outputs": [
    {
     "data": {
      "text/plain": [
       "   v50_v10_v14  v50_v10_v34  v50_v10_v114  v50_v10_v21  v50_v10_v4  \\\n",
       "0        13.66         6.66         13.68         8.87        5.63   \n",
       "1        13.08        10.71         18.60         8.22     -996.68   \n",
       "2        15.73        10.38         18.04        10.67        6.96   \n",
       "3        12.93         8.75         16.23         8.07        4.19   \n",
       "4        13.89         8.02         15.94         9.28        7.18   \n",
       "\n",
       "   v50_v10_v119  v50_v10_v123  v50_v10_v48  v50_v10_v12  v50_v10_v106  ...  \\\n",
       "0          1.43          3.25        14.20         8.39         13.12  ...   \n",
       "1       -996.68       -996.68      -996.68         8.94       -996.68  ...   \n",
       "2          2.42          4.39        15.19         9.31         14.17  ...   \n",
       "3         20.77         10.69        19.32         9.39          8.49  ...   \n",
       "4          3.20          3.87        13.12         8.81         17.21  ...   \n",
       "\n",
       "   v50_v121_v88  v50_v121_v36  v50_v121_v111  v50_v121_v65  v50_v88_v36  \\\n",
       "0          5.17         15.57           6.96         19.00        14.08   \n",
       "1      -1996.97      -1996.97       -1996.97      -1996.97     -1996.97   \n",
       "2          9.05         15.54           6.46         19.12        18.75   \n",
       "3          5.53         18.84           9.03         17.47        15.12   \n",
       "4          5.40         13.98           5.00         20.66        14.53   \n",
       "\n",
       "   v50_v88_v111  v50_v88_v65  v50_v36_v111  v50_v36_v65  v50_v111_v65  \n",
       "0          5.47        17.51         15.87        27.91         19.30  \n",
       "1      -1996.97     -1996.97      -1996.97     -1996.97      -1996.97  \n",
       "2          9.67        22.33         16.16        28.82         19.74  \n",
       "3          5.31        13.75         18.62        27.06         17.25  \n",
       "4          5.55        21.21         14.13        29.79         20.81  \n",
       "\n",
       "[5 rows x 406 columns]"
      ],
      "text/html": [
       "<div>\n",
       "<style scoped>\n",
       "    .dataframe tbody tr th:only-of-type {\n",
       "        vertical-align: middle;\n",
       "    }\n",
       "\n",
       "    .dataframe tbody tr th {\n",
       "        vertical-align: top;\n",
       "    }\n",
       "\n",
       "    .dataframe thead th {\n",
       "        text-align: right;\n",
       "    }\n",
       "</style>\n",
       "<table border=\"1\" class=\"dataframe\">\n",
       "  <thead>\n",
       "    <tr style=\"text-align: right;\">\n",
       "      <th></th>\n",
       "      <th>v50_v10_v14</th>\n",
       "      <th>v50_v10_v34</th>\n",
       "      <th>v50_v10_v114</th>\n",
       "      <th>v50_v10_v21</th>\n",
       "      <th>v50_v10_v4</th>\n",
       "      <th>v50_v10_v119</th>\n",
       "      <th>v50_v10_v123</th>\n",
       "      <th>v50_v10_v48</th>\n",
       "      <th>v50_v10_v12</th>\n",
       "      <th>v50_v10_v106</th>\n",
       "      <th>...</th>\n",
       "      <th>v50_v121_v88</th>\n",
       "      <th>v50_v121_v36</th>\n",
       "      <th>v50_v121_v111</th>\n",
       "      <th>v50_v121_v65</th>\n",
       "      <th>v50_v88_v36</th>\n",
       "      <th>v50_v88_v111</th>\n",
       "      <th>v50_v88_v65</th>\n",
       "      <th>v50_v36_v111</th>\n",
       "      <th>v50_v36_v65</th>\n",
       "      <th>v50_v111_v65</th>\n",
       "    </tr>\n",
       "  </thead>\n",
       "  <tbody>\n",
       "    <tr>\n",
       "      <th>0</th>\n",
       "      <td>13.66</td>\n",
       "      <td>6.66</td>\n",
       "      <td>13.68</td>\n",
       "      <td>8.87</td>\n",
       "      <td>5.63</td>\n",
       "      <td>1.43</td>\n",
       "      <td>3.25</td>\n",
       "      <td>14.20</td>\n",
       "      <td>8.39</td>\n",
       "      <td>13.12</td>\n",
       "      <td>...</td>\n",
       "      <td>5.17</td>\n",
       "      <td>15.57</td>\n",
       "      <td>6.96</td>\n",
       "      <td>19.00</td>\n",
       "      <td>14.08</td>\n",
       "      <td>5.47</td>\n",
       "      <td>17.51</td>\n",
       "      <td>15.87</td>\n",
       "      <td>27.91</td>\n",
       "      <td>19.30</td>\n",
       "    </tr>\n",
       "    <tr>\n",
       "      <th>1</th>\n",
       "      <td>13.08</td>\n",
       "      <td>10.71</td>\n",
       "      <td>18.60</td>\n",
       "      <td>8.22</td>\n",
       "      <td>-996.68</td>\n",
       "      <td>-996.68</td>\n",
       "      <td>-996.68</td>\n",
       "      <td>-996.68</td>\n",
       "      <td>8.94</td>\n",
       "      <td>-996.68</td>\n",
       "      <td>...</td>\n",
       "      <td>-1996.97</td>\n",
       "      <td>-1996.97</td>\n",
       "      <td>-1996.97</td>\n",
       "      <td>-1996.97</td>\n",
       "      <td>-1996.97</td>\n",
       "      <td>-1996.97</td>\n",
       "      <td>-1996.97</td>\n",
       "      <td>-1996.97</td>\n",
       "      <td>-1996.97</td>\n",
       "      <td>-1996.97</td>\n",
       "    </tr>\n",
       "    <tr>\n",
       "      <th>2</th>\n",
       "      <td>15.73</td>\n",
       "      <td>10.38</td>\n",
       "      <td>18.04</td>\n",
       "      <td>10.67</td>\n",
       "      <td>6.96</td>\n",
       "      <td>2.42</td>\n",
       "      <td>4.39</td>\n",
       "      <td>15.19</td>\n",
       "      <td>9.31</td>\n",
       "      <td>14.17</td>\n",
       "      <td>...</td>\n",
       "      <td>9.05</td>\n",
       "      <td>15.54</td>\n",
       "      <td>6.46</td>\n",
       "      <td>19.12</td>\n",
       "      <td>18.75</td>\n",
       "      <td>9.67</td>\n",
       "      <td>22.33</td>\n",
       "      <td>16.16</td>\n",
       "      <td>28.82</td>\n",
       "      <td>19.74</td>\n",
       "    </tr>\n",
       "    <tr>\n",
       "      <th>3</th>\n",
       "      <td>12.93</td>\n",
       "      <td>8.75</td>\n",
       "      <td>16.23</td>\n",
       "      <td>8.07</td>\n",
       "      <td>4.19</td>\n",
       "      <td>20.77</td>\n",
       "      <td>10.69</td>\n",
       "      <td>19.32</td>\n",
       "      <td>9.39</td>\n",
       "      <td>8.49</td>\n",
       "      <td>...</td>\n",
       "      <td>5.53</td>\n",
       "      <td>18.84</td>\n",
       "      <td>9.03</td>\n",
       "      <td>17.47</td>\n",
       "      <td>15.12</td>\n",
       "      <td>5.31</td>\n",
       "      <td>13.75</td>\n",
       "      <td>18.62</td>\n",
       "      <td>27.06</td>\n",
       "      <td>17.25</td>\n",
       "    </tr>\n",
       "    <tr>\n",
       "      <th>4</th>\n",
       "      <td>13.89</td>\n",
       "      <td>8.02</td>\n",
       "      <td>15.94</td>\n",
       "      <td>9.28</td>\n",
       "      <td>7.18</td>\n",
       "      <td>3.20</td>\n",
       "      <td>3.87</td>\n",
       "      <td>13.12</td>\n",
       "      <td>8.81</td>\n",
       "      <td>17.21</td>\n",
       "      <td>...</td>\n",
       "      <td>5.40</td>\n",
       "      <td>13.98</td>\n",
       "      <td>5.00</td>\n",
       "      <td>20.66</td>\n",
       "      <td>14.53</td>\n",
       "      <td>5.55</td>\n",
       "      <td>21.21</td>\n",
       "      <td>14.13</td>\n",
       "      <td>29.79</td>\n",
       "      <td>20.81</td>\n",
       "    </tr>\n",
       "  </tbody>\n",
       "</table>\n",
       "<p>5 rows × 406 columns</p>\n",
       "</div>"
      ]
     },
     "execution_count": 98,
     "metadata": {},
     "output_type": "execute_result"
    }
   ],
   "execution_count": 98
  },
  {
   "cell_type": "code",
   "id": "af2dcccfedbba0e0",
   "metadata": {
    "ExecuteTime": {
     "end_time": "2024-10-24T00:49:01.686024Z",
     "start_time": "2024-10-24T00:49:01.685026Z"
    }
   },
   "source": [],
   "outputs": [],
   "execution_count": null
  },
  {
   "cell_type": "markdown",
   "id": "f1b7dee961596ae",
   "metadata": {},
   "source": []
  },
  {
   "cell_type": "markdown",
   "id": "898eed3c1a383d1c",
   "metadata": {},
   "source": []
  },
  {
   "cell_type": "code",
   "id": "571d2430bf96694c",
   "metadata": {
    "ExecuteTime": {
     "end_time": "2024-10-24T00:49:01.903176Z",
     "start_time": "2024-10-24T00:49:01.734651Z"
    }
   },
   "source": [
    "corr_list = calc_rel(train_v50n2, y, train_v50n2.columns.to_list())\n",
    "corr_df = pd.DataFrame(corr_list, columns=['feature', 'correlation'])"
   ],
   "outputs": [],
   "execution_count": 99
  },
  {
   "cell_type": "code",
   "id": "2a05e4065eea7173",
   "metadata": {
    "ExecuteTime": {
     "end_time": "2024-10-24T00:49:01.996125Z",
     "start_time": "2024-10-24T00:49:01.990591Z"
    }
   },
   "source": [
    "p99_corr_v50n2 = get_n_per_corr(corr_df, target_per=0.99)\n",
    "# p99_corr = corr_df"
   ],
   "outputs": [
    {
     "name": "stdout",
     "output_type": "stream",
     "text": [
      "393 0.9900523716723958 (394, 2)\n"
     ]
    }
   ],
   "execution_count": 100
  },
  {
   "cell_type": "code",
   "id": "ce874df2289c0f0a",
   "metadata": {
    "ExecuteTime": {
     "end_time": "2024-10-24T00:49:06.371173Z",
     "start_time": "2024-10-24T00:49:02.046715Z"
    }
   },
   "source": [
    "train_v50n2 = train_v50n2[p99_corr_v50n2['feature'].to_list()]\n",
    "train = pd.concat([train, train_n2, train_v50n2], axis=1)\n",
    "del train_n2, train_v50n2\n",
    "gc.collect()"
   ],
   "outputs": [
    {
     "data": {
      "text/plain": [
       "613"
      ]
     },
     "execution_count": 101,
     "metadata": {},
     "output_type": "execute_result"
    }
   ],
   "execution_count": 101
  },
  {
   "cell_type": "code",
   "id": "e3719af325e8af5f",
   "metadata": {
    "ExecuteTime": {
     "end_time": "2024-10-24T00:49:06.475439Z",
     "start_time": "2024-10-24T00:49:06.471332Z"
    }
   },
   "source": [
    "\n"
   ],
   "outputs": [],
   "execution_count": 101
  },
  {
   "cell_type": "markdown",
   "id": "565cf1bba1138f67",
   "metadata": {},
   "source": [
    "# v50+n2"
   ]
  },
  {
   "cell_type": "code",
   "id": "c0a2064a498898fd",
   "metadata": {
    "ExecuteTime": {
     "end_time": "2024-10-24T00:49:10.677026Z",
     "start_time": "2024-10-24T00:49:06.499540Z"
    }
   },
   "source": [
    "test_v50n2 = test_v50n2[p99_corr_v50n2['feature'].to_list()]\n",
    "test = pd.concat([test, test_n2, test_v50n2], axis=1)\n",
    "# test.shape"
   ],
   "outputs": [],
   "execution_count": 102
  },
  {
   "cell_type": "code",
   "id": "a60efa9028f2737b",
   "metadata": {
    "ExecuteTime": {
     "end_time": "2024-10-24T00:49:10.849383Z",
     "start_time": "2024-10-24T00:49:10.787770Z"
    }
   },
   "source": [
    "del test_n2, test_v50n2\n",
    "gc.collect()"
   ],
   "outputs": [
    {
     "data": {
      "text/plain": [
       "1354"
      ]
     },
     "execution_count": 103,
     "metadata": {},
     "output_type": "execute_result"
    }
   ],
   "execution_count": 103
  },
  {
   "cell_type": "code",
   "id": "343348cc79a9781b",
   "metadata": {
    "ExecuteTime": {
     "end_time": "2024-10-24T00:49:10.897735Z",
     "start_time": "2024-10-24T00:49:10.873864Z"
    }
   },
   "source": [
    "assert(train.shape[1] == test.shape[1])\n",
    "for i in test.columns:\n",
    "    if i not in train.columns:\n",
    "        assert(True)"
   ],
   "outputs": [],
   "execution_count": 104
  },
  {
   "cell_type": "code",
   "id": "6627dca8161934eb",
   "metadata": {
    "ExecuteTime": {
     "end_time": "2024-10-24T00:49:12.546933Z",
     "start_time": "2024-10-24T00:49:10.925661Z"
    }
   },
   "source": [
    "cat_col = train.select_dtypes(exclude=['number']).columns.values\n",
    "num_col = train.select_dtypes(include=['number']).columns.values\n",
    "cols = train.columns.to_list()"
   ],
   "outputs": [],
   "execution_count": 105
  },
  {
   "cell_type": "code",
   "id": "35368b6b-7fa3-4957-9815-e85a2bc5161e",
   "metadata": {
    "ExecuteTime": {
     "end_time": "2024-10-24T00:49:12.627429Z",
     "start_time": "2024-10-24T00:49:12.623568Z"
    }
   },
   "source": [],
   "outputs": [],
   "execution_count": null
  },
  {
   "cell_type": "markdown",
   "id": "1f2eb2ed81b49524",
   "metadata": {},
   "source": [
    "# a list for removing useless features"
   ]
  },
  {
   "cell_type": "code",
   "id": "5fa7f6a9c60a3fbe",
   "metadata": {
    "ExecuteTime": {
     "end_time": "2024-10-24T00:49:12.655308Z",
     "start_time": "2024-10-24T00:49:12.653762Z"
    }
   },
   "source": [
    "# featimp_df = pd.read_csv(\"featimp_20241012_1720_8gpu_num2cat_num999_longparam.csv\")\n",
    "# featimp_df = featimp_df.sort_values(by=['importance'],ascending=False)\n",
    "# important_features = featimp_df['feature'].to_list()\n",
    "# cols = [i for i in train.columns if i in important_features]\n",
    "# cols_cat = [i for i in cat_col if i in important_features]\n",
    "# cols = [i for i in train.columns if i in important_features]\n",
    "# cat_col = [i for i in cat_col if i in important_features]\n"
   ],
   "outputs": [],
   "execution_count": 106
  },
  {
   "cell_type": "code",
   "id": "678e2d7aea55d712",
   "metadata": {
    "ExecuteTime": {
     "end_time": "2024-10-24T00:49:12.706860Z",
     "start_time": "2024-10-24T00:49:12.701813Z"
    }
   },
   "source": [
    "\n",
    "# train = train[cols] #not necessary\n",
    "# test = test[cols] #not necessary\n",
    "# train_data = cat.Pool(train, label=y,cat_features=cat_col)\n",
    "# test_data = cat.Pool(test,cat_features=cat_col)\n",
    "\n",
    "\n"
   ],
   "outputs": [],
   "execution_count": 107
  },
  {
   "cell_type": "code",
   "id": "9ff1c02710263b1b",
   "metadata": {
    "ExecuteTime": {
     "end_time": "2024-10-24T00:49:12.737885Z",
     "start_time": "2024-10-24T00:49:12.736406Z"
    }
   },
   "source": [
    "params = {\n",
    "    \"loss_function\": \"Logloss\",\n",
    "    \"eval_metric\": \"Logloss\",\n",
    "    \"learning_rate\": 0.02,\n",
    "    \"iterations\": 2800,\n",
    "    # \"l2_leaf_reg\": 3,\n",
    "    # \"random_seed\": 432013,\n",
    "    # \"subsample\": 0.66,\n",
    "    # \"od_type\": \"Iter\",\n",
    "    # \"rsm\": 0.2,\n",
    "    \"depth\": 6,\n",
    "    # \"border_count\": 128,\n",
    "    \"task_type\": \"GPU\",\n",
    "    \"cat_features\":cat_col,\n",
    "    \"verbose\":100\n",
    "}"
   ],
   "outputs": [],
   "execution_count": 108
  },
  {
   "cell_type": "code",
   "id": "1d0590fc-802a-43be-9994-8ae82cdced3b",
   "metadata": {
    "ExecuteTime": {
     "end_time": "2024-10-24T01:06:39.028967Z",
     "start_time": "2024-10-24T00:49:12.794939Z"
    }
   },
   "source": [
    "model = cat.CatBoostClassifier(**params)\n",
    "fit_model = model.fit(train,y,verbose=100)"
   ],
   "outputs": [
    {
     "name": "stdout",
     "output_type": "stream",
     "text": [
      "0:\tlearn: 0.6840021\ttotal: 335ms\tremaining: 15m 37s\n",
      "100:\tlearn: 0.4736867\ttotal: 36.2s\tremaining: 16m 7s\n",
      "200:\tlearn: 0.4583512\ttotal: 1m 9s\tremaining: 15m 1s\n",
      "300:\tlearn: 0.4524240\ttotal: 1m 45s\tremaining: 14m 33s\n",
      "400:\tlearn: 0.4493012\ttotal: 2m 20s\tremaining: 13m 57s\n",
      "500:\tlearn: 0.4470615\ttotal: 2m 54s\tremaining: 13m 20s\n",
      "600:\tlearn: 0.4453056\ttotal: 3m 28s\tremaining: 12m 43s\n",
      "700:\tlearn: 0.4436863\ttotal: 4m 3s\tremaining: 12m 10s\n",
      "800:\tlearn: 0.4422938\ttotal: 4m 40s\tremaining: 11m 39s\n",
      "900:\tlearn: 0.4409988\ttotal: 5m 16s\tremaining: 11m 7s\n",
      "1000:\tlearn: 0.4397102\ttotal: 5m 52s\tremaining: 10m 33s\n",
      "1100:\tlearn: 0.4384972\ttotal: 6m 27s\tremaining: 9m 58s\n",
      "1200:\tlearn: 0.4373873\ttotal: 7m 2s\tremaining: 9m 22s\n",
      "1300:\tlearn: 0.4361977\ttotal: 7m 37s\tremaining: 8m 47s\n",
      "1400:\tlearn: 0.4351230\ttotal: 8m 13s\tremaining: 8m 12s\n",
      "1500:\tlearn: 0.4341085\ttotal: 8m 48s\tremaining: 7m 37s\n",
      "1600:\tlearn: 0.4330629\ttotal: 9m 23s\tremaining: 7m 2s\n",
      "1700:\tlearn: 0.4320411\ttotal: 10m\tremaining: 6m 27s\n",
      "1800:\tlearn: 0.4310299\ttotal: 10m 36s\tremaining: 5m 52s\n",
      "1900:\tlearn: 0.4299970\ttotal: 11m 12s\tremaining: 5m 18s\n",
      "2000:\tlearn: 0.4290447\ttotal: 11m 47s\tremaining: 4m 42s\n",
      "2100:\tlearn: 0.4280356\ttotal: 12m 24s\tremaining: 4m 7s\n",
      "2200:\tlearn: 0.4270805\ttotal: 13m 1s\tremaining: 3m 32s\n",
      "2300:\tlearn: 0.4260995\ttotal: 13m 37s\tremaining: 2m 57s\n",
      "2400:\tlearn: 0.4251496\ttotal: 14m 14s\tremaining: 2m 21s\n",
      "2500:\tlearn: 0.4242500\ttotal: 14m 50s\tremaining: 1m 46s\n",
      "2600:\tlearn: 0.4232665\ttotal: 15m 27s\tremaining: 1m 10s\n",
      "2700:\tlearn: 0.4223439\ttotal: 16m 4s\tremaining: 35.3s\n",
      "2799:\tlearn: 0.4214272\ttotal: 16m 39s\tremaining: 0us\n"
     ]
    }
   ],
   "execution_count": 109
  },
  {
   "cell_type": "code",
   "id": "33d8c1d9-75a6-4991-ada5-d14e4dff8c71",
   "metadata": {
    "ExecuteTime": {
     "end_time": "2024-10-24T01:06:39.046083Z",
     "start_time": "2024-10-24T01:06:39.044476Z"
    }
   },
   "source": "deliberately block the code",
   "outputs": [
    {
     "ename": "SyntaxError",
     "evalue": "invalid syntax (3500348524.py, line 1)",
     "output_type": "error",
     "traceback": [
      "\u001B[0;36m  Cell \u001B[0;32mIn[110], line 1\u001B[0;36m\u001B[0m\n\u001B[0;31m    deliberately block the code\u001B[0m\n\u001B[0m                 ^\u001B[0m\n\u001B[0;31mSyntaxError\u001B[0m\u001B[0;31m:\u001B[0m invalid syntax\n"
     ]
    }
   ],
   "execution_count": 110
  },
  {
   "cell_type": "code",
   "execution_count": null,
   "id": "98b0477797e4c1f1",
   "metadata": {
    "ExecuteTime": {
     "end_time": "2024-10-24T01:06:39.161123500Z",
     "start_time": "2024-10-13T22:30:56.666545Z"
    }
   },
   "outputs": [],
   "source": [
    "ite_round = 0\n",
    "\n",
    "class CustomDataPreprocessor(BaseEstimator, TransformerMixin):\n",
    "    def __init__(self,**kwargs):\n",
    "        return\n",
    "\n",
    "    def fit(self, X, y=None, **kwargs):\n",
    "\n",
    "        # Perform necessary fitting operations\n",
    "        return self\n",
    "\n",
    "    def transform(self, X, y=None, **kwargs):\n",
    "        # Perform transformations on the data\n",
    "        global ite_round\n",
    "        ite_round += 1\n",
    "        print(f\"This is the {ite_round=:}\")\n",
    "        return X\n",
    "\n"
   ]
  },
  {
   "cell_type": "code",
   "execution_count": null,
   "id": "fc9c2f9966b2abe3",
   "metadata": {
    "ExecuteTime": {
     "end_time": "2024-10-24T01:06:39.162118700Z",
     "start_time": "2024-10-13T22:30:56.711053Z"
    }
   },
   "outputs": [],
   "source": [
    "from sklearn.pipeline import Pipeline, make_pipeline\n",
    "\n",
    "param_grid_1 = {\n",
    "    \"catboostclassifier__iterations\": np.arange(2800,2900,100),\n",
    "    # \"catboostclassifier__learning_rate\": np.arange(0.01,0.05,0.01),\n",
    "    \"catboostclassifier__depth\": np.arange(6,7,1)\n",
    "    }\n",
    "\n",
    "def pipeforcat():\n",
    "    return make_pipeline(CustomDataPreprocessor(),cat.CatBoostClassifier(**params))"
   ]
  },
  {
   "cell_type": "code",
   "execution_count": null,
   "id": "427e55b8ce2d734a",
   "metadata": {
    "ExecuteTime": {
     "end_time": "2024-10-24T01:06:39.162118700Z",
     "start_time": "2024-10-13T22:30:56.770392Z"
    }
   },
   "outputs": [],
   "source": [
    "piped = pipeforcat()\n",
    "piped"
   ]
  },
  {
   "cell_type": "code",
   "execution_count": null,
   "id": "4234f576a94fc1e3",
   "metadata": {
    "ExecuteTime": {
     "end_time": "2024-10-24T01:06:39.162118700Z",
     "start_time": "2024-10-13T22:30:56.828658Z"
    }
   },
   "outputs": [],
   "source": [
    "piped.get_params().keys()"
   ]
  },
  {
   "cell_type": "code",
   "execution_count": null,
   "id": "928d780334d7728d",
   "metadata": {
    "ExecuteTime": {
     "end_time": "2024-10-24T01:06:39.162118700Z",
     "start_time": "2024-10-13T22:30:56.949685Z"
    }
   },
   "outputs": [],
   "source": [
    "# piped.fit(train,y)"
   ]
  },
  {
   "cell_type": "code",
   "execution_count": null,
   "id": "16df00f7b71b004d",
   "metadata": {
    "ExecuteTime": {
     "end_time": "2024-10-24T01:06:39.162118700Z",
     "start_time": "2024-10-13T22:30:57.016538Z"
    }
   },
   "outputs": [],
   "source": [
    "from sklearn.model_selection import GridSearchCV\n",
    "\n",
    "\n",
    "# grid = GridSearchCV(cat.CatBoostClassifier(**params), param_grid_1, cv=2)\n",
    "grid = GridSearchCV(piped, param_grid_1, cv=3, error_score='raise', verbose=3)"
   ]
  },
  {
   "cell_type": "code",
   "execution_count": null,
   "id": "de7c76546a27b27",
   "metadata": {
    "ExecuteTime": {
     "end_time": "2024-10-24T01:06:39.162118700Z",
     "start_time": "2024-10-13T22:30:57.087950Z"
    },
    "scrolled": true
   },
   "outputs": [],
   "source": [
    "grid_model = grid.fit(train,y)"
   ]
  },
  {
   "cell_type": "code",
   "execution_count": null,
   "id": "374a8c7149055ebb",
   "metadata": {},
   "outputs": [],
   "source": [
    "grid.best_params_"
   ]
  },
  {
   "cell_type": "code",
   "execution_count": null,
   "id": "8d6ee0c594507c2d",
   "metadata": {},
   "outputs": [],
   "source": [
    "grid.cv_results_"
   ]
  },
  {
   "cell_type": "code",
   "execution_count": null,
   "id": "9ab01cc5ab7e3c6c",
   "metadata": {},
   "outputs": [],
   "source": [
    "# y_pred = grid.best_estimator_[1].predict_proba(test_data)\n"
   ]
  },
  {
   "cell_type": "code",
   "execution_count": 42,
   "id": "9be4cec4-dd43-4095-9d66-2817fffe6323",
   "metadata": {},
   "outputs": [],
   "source": [
    "y_pred = fit_model.predict_proba(test)"
   ]
  },
  {
   "cell_type": "code",
   "execution_count": 43,
   "id": "36241726-e6ee-457f-a81b-6d959bff40e8",
   "metadata": {},
   "outputs": [
    {
     "data": {
      "text/plain": [
       "(114393, 2)"
      ]
     },
     "execution_count": 43,
     "metadata": {},
     "output_type": "execute_result"
    }
   ],
   "source": [
    "y_pred.shape"
   ]
  },
  {
   "cell_type": "code",
   "execution_count": 44,
   "id": "12675fe2bd4737f4",
   "metadata": {},
   "outputs": [],
   "source": [
    "submission = pd.read_csv(\"sample_submission.csv\")\n",
    "submission['PredictedProb'] = y_pred[:,1]\n",
    "submission.to_csv('submission_20241013_1900_grid_.csv', index=False)"
   ]
  },
  {
   "cell_type": "code",
   "execution_count": null,
   "id": "98ce9bd7-c408-4976-9f21-dd2311fa6a49",
   "metadata": {},
   "outputs": [],
   "source": [
    "fit_model.get_best_iteration()"
   ]
  },
  {
   "cell_type": "code",
   "execution_count": null,
   "id": "56083edbd7a7853c",
   "metadata": {},
   "outputs": [],
   "source": [
    "pd.DataFrame(grid.cv_results_).to_csv(\"cv_results_.csv\",index=True)"
   ]
  },
  {
   "cell_type": "code",
   "execution_count": null,
   "id": "2b5ba9a130f6dc66",
   "metadata": {},
   "outputs": [],
   "source": [
    "# Save the grid search model\n",
    "joblib.dump(grid, 'grid_search_model.pkl')\n",
    "# Load the model\n",
    "# loaded_model = joblib.load('grid_search_model.pkl')"
   ]
  },
  {
   "cell_type": "code",
   "execution_count": null,
   "id": "b36f04582c196580",
   "metadata": {},
   "outputs": [],
   "source": [
    "#save feature importance of grid search\n",
    "fit_model = grid_model.best_estimator_[1]\n",
    "features = fit_model.feature_names_\n",
    "feature_importances = fit_model.get_feature_importance()\n",
    "featimp_df = pd.DataFrame({'importance':feature_importances, 'feature':features}).sort_values(by=['importance'],ascending=False)\n",
    "featimp_df.to_csv('featimp_20241012_2100_8gpu_runpod_grid_.csv', index=True)"
   ]
  },
  {
   "cell_type": "code",
   "execution_count": null,
   "id": "31cc339ba742cfe2",
   "metadata": {},
   "outputs": [],
   "source": [
    "# Load the model back\n",
    "# fit_model = cat.CatBoostClassifier()\n",
    "# fit_model.load_model(\"model_20241012_1720_8gpu_num2cat_num999_longparam.cbm\")\n",
    "# best_estimator = fit_model.best_estimator_[1]\n",
    "# features = best_estimator.feature_names_\n",
    "# feature_importances = best_estimator.get_feature_importance()\n",
    "# featimp_df = pd.DataFrame({'importance':feature_importances, 'feature':features}).sort_values(by=['importance'],ascending=False)\n",
    "# featimp_df.to_csv('featimp_20241012_2100_8gpu_runpod_grid_2100_6.csv', index=True)\n",
    "# important_features = featimp_df['feature'].to_list()"
   ]
  },
  {
   "cell_type": "code",
   "execution_count": 46,
   "id": "3427663f-6494-43f1-be05-55ffd2268e8e",
   "metadata": {},
   "outputs": [
    {
     "data": {
      "text/plain": [
       "['fit_model.pkl']"
      ]
     },
     "execution_count": 46,
     "metadata": {},
     "output_type": "execute_result"
    }
   ],
   "source": [
    "joblib.dump(fit_model, 'fit_model.pkl')"
   ]
  },
  {
   "cell_type": "code",
   "execution_count": 50,
   "id": "2f0a0a5c-5beb-414d-93d5-db583690f6b5",
   "metadata": {},
   "outputs": [],
   "source": [
    "features = fit_model.feature_names_\n",
    "feature_importances = fit_model.get_feature_importance()\n",
    "featimp_df = pd.DataFrame({'importance':feature_importances, 'feature':features}).sort_values(by=['importance'],ascending=False)\n",
    "featimp_df.to_csv('featimp.csv', index=True)"
   ]
  },
  {
   "cell_type": "code",
   "execution_count": null,
   "id": "63e5218f-d55b-4039-96ff-51d0ca530016",
   "metadata": {},
   "outputs": [],
   "source": []
  }
 ],
 "metadata": {
  "kernelspec": {
   "display_name": "Python 3 (ipykernel)",
   "language": "python",
   "name": "python3"
  },
  "language_info": {
   "codemirror_mode": {
    "name": "ipython",
    "version": 3
   },
   "file_extension": ".py",
   "mimetype": "text/x-python",
   "name": "python",
   "nbconvert_exporter": "python",
   "pygments_lexer": "ipython3",
   "version": "3.10.12"
  }
 },
 "nbformat": 4,
 "nbformat_minor": 5
}
